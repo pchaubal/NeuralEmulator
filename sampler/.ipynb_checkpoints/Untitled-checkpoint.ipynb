{
 "cells": [
  {
   "cell_type": "code",
   "execution_count": 1,
   "id": "6ac384d5",
   "metadata": {},
   "outputs": [],
   "source": [
    "import numpy as np\n",
    "import dynesty\n",
    "from dynesty import plotting as dyplot\n",
    "from planck_lik import Planck\n",
    "import scipy\n",
    "\n",
    "# Define the dimensionality of our problem.\n",
    "ndim = 7\n",
    "pl = Planck()\n",
    "loglike = pl.plik_lite"
   ]
  },
  {
   "cell_type": "code",
   "execution_count": 6,
   "id": "81b93a7e",
   "metadata": {},
   "outputs": [
    {
     "name": "stdout",
     "output_type": "stream",
     "text": [
      "loglike= -104.77914118043569 -inf\n"
     ]
    },
    {
     "name": "stderr",
     "output_type": "stream",
     "text": [
      "3150it [30:17,  1.73it/s, +500 | bound: 1223 | nc: 1 | ncall: 1135778 | eff(%):  0.321 | loglstar:   -inf < -103.399 <    inf | logz: -105.081 +/-    nan | dlogz:  0.000 >  0.010]\n"
     ]
    }
   ],
   "source": [
    "\n",
    "# # Define our 3-D correlated multivariate normal log-likelihood.\n",
    "# C = np.identity(ndim)\n",
    "# C[C==0] = 0.95\n",
    "# Cinv = np.linalg.inv(C)\n",
    "# lnorm = -0.5 * (np.log(2 * np.pi) * ndim +\n",
    "#                 np.log(np.linalg.det(C)))\n",
    "\n",
    "# def loglike(x):\n",
    "#     return -0.5 * np.dot(x, np.dot(Cinv, x)) + lnorm\n",
    "\n",
    "# Define our uniform prior via the prior transform.\n",
    "def ptform(u):\n",
    "    x = np.array(u)\n",
    "    # As\n",
    "    x[0] = 2. * u[0] - 1.\n",
    "    x[0] *= 1e-10\n",
    "    x[0] += 2.1e-9\n",
    "    \n",
    "    # ns\n",
    "    x[1] = 2. * u[1] - 1. \n",
    "    x[1] *= .05\n",
    "    x[1] += 0.961\n",
    "    \n",
    "    # tau\n",
    "    x[2] = scipy.stats.norm.ppf(u[2], loc=0.052, scale=0.008)\n",
    "    \n",
    "    # omega_bh2\n",
    "    x[3] = 2. * u[3] - 1.\n",
    "    x[3] *= .002\n",
    "    x[3] += 0.02210\n",
    "    \n",
    "    # omega_ch2\n",
    "    x[4] = 2. * u[4] - 1.\n",
    "    x[4] *= .02\n",
    "    x[4] += 0.120\n",
    "    \n",
    "    # theta_star\n",
    "    x[5] = 2. * u[5] - 1.\n",
    "    x[5] *= .005\n",
    "    x[5] += 1.0407\n",
    "    \n",
    "    # A_planck\n",
    "#     x[6] = 2. * u[6] -1\n",
    "#     x[6] *= .002\n",
    "#     x[6] += 1.0\n",
    "    x[6] = scipy.stats.norm.ppf(u[2], loc=1.0, scale=0.0025)\n",
    "\n",
    "    return x\n",
    "\n",
    "pt1 = ptform(np.random.rand(7))\n",
    "pt = np.array([2.07894768e-09, 9.61816765e-01, 5.18185481e-02, 2.20042718e-02,\n",
    " 1.19878074e-01, 1.04076458e+00, 9.99019948e-01])\n",
    "# print('pt1 =', pt1)\n",
    "# # print(((pt1-pt)/pt1))\n",
    "print('loglike=',loglike(pt),loglike(pt1))\n",
    "\n",
    "# Sample from our distribution.\n",
    "sampler = dynesty.NestedSampler(loglike, ptform, ndim, nlive=500)\n",
    "sampler.run_nested(dlogz=0.01)\n",
    "res = sampler.results\n"
   ]
  },
  {
   "cell_type": "code",
   "execution_count": 8,
   "id": "8d073684",
   "metadata": {},
   "outputs": [
    {
     "ename": "ValueError",
     "evalue": "Axis limits cannot be NaN or Inf",
     "output_type": "error",
     "traceback": [
      "\u001b[0;31m---------------------------------------------------------------------------\u001b[0m",
      "\u001b[0;31mValueError\u001b[0m                                Traceback (most recent call last)",
      "\u001b[0;32m<ipython-input-8-7f87db79b997>\u001b[0m in \u001b[0;36m<module>\u001b[0;34m\u001b[0m\n\u001b[1;32m      1\u001b[0m \u001b[0;31m# Plot a summary of the run.\u001b[0m\u001b[0;34m\u001b[0m\u001b[0;34m\u001b[0m\u001b[0;34m\u001b[0m\u001b[0m\n\u001b[0;32m----> 2\u001b[0;31m \u001b[0mrfig\u001b[0m\u001b[0;34m,\u001b[0m \u001b[0mraxes\u001b[0m \u001b[0;34m=\u001b[0m \u001b[0mdyplot\u001b[0m\u001b[0;34m.\u001b[0m\u001b[0mrunplot\u001b[0m\u001b[0;34m(\u001b[0m\u001b[0mres\u001b[0m\u001b[0;34m)\u001b[0m\u001b[0;34m\u001b[0m\u001b[0;34m\u001b[0m\u001b[0m\n\u001b[0m\u001b[1;32m      3\u001b[0m \u001b[0;34m\u001b[0m\u001b[0m\n\u001b[1;32m      4\u001b[0m \u001b[0;31m# Plot traces and 1-D marginalized posteriors.\u001b[0m\u001b[0;34m\u001b[0m\u001b[0;34m\u001b[0m\u001b[0;34m\u001b[0m\u001b[0m\n\u001b[1;32m      5\u001b[0m \u001b[0mtfig\u001b[0m\u001b[0;34m,\u001b[0m \u001b[0mtaxes\u001b[0m \u001b[0;34m=\u001b[0m \u001b[0mdyplot\u001b[0m\u001b[0;34m.\u001b[0m\u001b[0mtraceplot\u001b[0m\u001b[0;34m(\u001b[0m\u001b[0mres\u001b[0m\u001b[0;34m)\u001b[0m\u001b[0;34m\u001b[0m\u001b[0;34m\u001b[0m\u001b[0m\n",
      "\u001b[0;32m~/.anaconda3/lib/python3.7/site-packages/dynesty/plotting.py\u001b[0m in \u001b[0;36mrunplot\u001b[0;34m(results, span, logplot, kde, nkde, color, plot_kwargs, label_kwargs, lnz_error, lnz_truth, truth_color, truth_kwargs, max_x_ticks, max_y_ticks, use_math_text, mark_final_live, fig)\u001b[0m\n\u001b[1;32m    243\u001b[0m             \u001b[0mymax\u001b[0m \u001b[0;34m=\u001b[0m \u001b[0mmax\u001b[0m\u001b[0;34m(\u001b[0m\u001b[0mspan\u001b[0m\u001b[0;34m[\u001b[0m\u001b[0mi\u001b[0m\u001b[0;34m]\u001b[0m\u001b[0;34m[\u001b[0m\u001b[0;36m1\u001b[0m\u001b[0;34m]\u001b[0m\u001b[0;34m,\u001b[0m \u001b[0myspan\u001b[0m\u001b[0;34m[\u001b[0m\u001b[0mi\u001b[0m\u001b[0;34m]\u001b[0m\u001b[0;34m[\u001b[0m\u001b[0;36m1\u001b[0m\u001b[0;34m]\u001b[0m\u001b[0;34m)\u001b[0m\u001b[0;34m\u001b[0m\u001b[0;34m\u001b[0m\u001b[0m\n\u001b[1;32m    244\u001b[0m         \u001b[0maxes\u001b[0m\u001b[0;34m[\u001b[0m\u001b[0mi\u001b[0m\u001b[0;34m]\u001b[0m\u001b[0;34m.\u001b[0m\u001b[0mset_xlim\u001b[0m\u001b[0;34m(\u001b[0m\u001b[0;34m[\u001b[0m\u001b[0mxmin\u001b[0m\u001b[0;34m,\u001b[0m \u001b[0mxmax\u001b[0m\u001b[0;34m]\u001b[0m\u001b[0;34m)\u001b[0m\u001b[0;34m\u001b[0m\u001b[0;34m\u001b[0m\u001b[0m\n\u001b[0;32m--> 245\u001b[0;31m         \u001b[0maxes\u001b[0m\u001b[0;34m[\u001b[0m\u001b[0mi\u001b[0m\u001b[0;34m]\u001b[0m\u001b[0;34m.\u001b[0m\u001b[0mset_ylim\u001b[0m\u001b[0;34m(\u001b[0m\u001b[0;34m[\u001b[0m\u001b[0mymin\u001b[0m\u001b[0;34m,\u001b[0m \u001b[0mymax\u001b[0m\u001b[0;34m]\u001b[0m\u001b[0;34m)\u001b[0m\u001b[0;34m\u001b[0m\u001b[0;34m\u001b[0m\u001b[0m\n\u001b[0m\u001b[1;32m    246\u001b[0m \u001b[0;34m\u001b[0m\u001b[0m\n\u001b[1;32m    247\u001b[0m     \u001b[0;31m# Plotting.\u001b[0m\u001b[0;34m\u001b[0m\u001b[0;34m\u001b[0m\u001b[0;34m\u001b[0m\u001b[0m\n",
      "\u001b[0;32m~/.anaconda3/lib/python3.7/site-packages/matplotlib/axes/_base.py\u001b[0m in \u001b[0;36mset_ylim\u001b[0;34m(self, bottom, top, emit, auto, ymin, ymax)\u001b[0m\n\u001b[1;32m   3567\u001b[0m         \u001b[0mself\u001b[0m\u001b[0;34m.\u001b[0m\u001b[0m_process_unit_info\u001b[0m\u001b[0;34m(\u001b[0m\u001b[0mydata\u001b[0m\u001b[0;34m=\u001b[0m\u001b[0;34m(\u001b[0m\u001b[0mbottom\u001b[0m\u001b[0;34m,\u001b[0m \u001b[0mtop\u001b[0m\u001b[0;34m)\u001b[0m\u001b[0;34m)\u001b[0m\u001b[0;34m\u001b[0m\u001b[0;34m\u001b[0m\u001b[0m\n\u001b[1;32m   3568\u001b[0m         \u001b[0mbottom\u001b[0m \u001b[0;34m=\u001b[0m \u001b[0mself\u001b[0m\u001b[0;34m.\u001b[0m\u001b[0m_validate_converted_limits\u001b[0m\u001b[0;34m(\u001b[0m\u001b[0mbottom\u001b[0m\u001b[0;34m,\u001b[0m \u001b[0mself\u001b[0m\u001b[0;34m.\u001b[0m\u001b[0mconvert_yunits\u001b[0m\u001b[0;34m)\u001b[0m\u001b[0;34m\u001b[0m\u001b[0;34m\u001b[0m\u001b[0m\n\u001b[0;32m-> 3569\u001b[0;31m         \u001b[0mtop\u001b[0m \u001b[0;34m=\u001b[0m \u001b[0mself\u001b[0m\u001b[0;34m.\u001b[0m\u001b[0m_validate_converted_limits\u001b[0m\u001b[0;34m(\u001b[0m\u001b[0mtop\u001b[0m\u001b[0;34m,\u001b[0m \u001b[0mself\u001b[0m\u001b[0;34m.\u001b[0m\u001b[0mconvert_yunits\u001b[0m\u001b[0;34m)\u001b[0m\u001b[0;34m\u001b[0m\u001b[0;34m\u001b[0m\u001b[0m\n\u001b[0m\u001b[1;32m   3570\u001b[0m \u001b[0;34m\u001b[0m\u001b[0m\n\u001b[1;32m   3571\u001b[0m         \u001b[0;32mif\u001b[0m \u001b[0mbottom\u001b[0m \u001b[0;32mis\u001b[0m \u001b[0;32mNone\u001b[0m \u001b[0;32mor\u001b[0m \u001b[0mtop\u001b[0m \u001b[0;32mis\u001b[0m \u001b[0;32mNone\u001b[0m\u001b[0;34m:\u001b[0m\u001b[0;34m\u001b[0m\u001b[0;34m\u001b[0m\u001b[0m\n",
      "\u001b[0;32m~/.anaconda3/lib/python3.7/site-packages/matplotlib/axes/_base.py\u001b[0m in \u001b[0;36m_validate_converted_limits\u001b[0;34m(self, limit, convert)\u001b[0m\n\u001b[1;32m   3212\u001b[0m             if (isinstance(converted_limit, Real)\n\u001b[1;32m   3213\u001b[0m                     and not np.isfinite(converted_limit)):\n\u001b[0;32m-> 3214\u001b[0;31m                 \u001b[0;32mraise\u001b[0m \u001b[0mValueError\u001b[0m\u001b[0;34m(\u001b[0m\u001b[0;34m\"Axis limits cannot be NaN or Inf\"\u001b[0m\u001b[0;34m)\u001b[0m\u001b[0;34m\u001b[0m\u001b[0;34m\u001b[0m\u001b[0m\n\u001b[0m\u001b[1;32m   3215\u001b[0m             \u001b[0;32mreturn\u001b[0m \u001b[0mconverted_limit\u001b[0m\u001b[0;34m\u001b[0m\u001b[0;34m\u001b[0m\u001b[0m\n\u001b[1;32m   3216\u001b[0m \u001b[0;34m\u001b[0m\u001b[0m\n",
      "\u001b[0;31mValueError\u001b[0m: Axis limits cannot be NaN or Inf"
     ]
    },
    {
     "data": {
      "image/png": "[encoded data removed]",
      "text/plain": [
       "<Figure size 1152x1152 with 4 Axes>"
      ]
     },
     "metadata": {
      "needs_background": "light"
     },
     "output_type": "display_data"
    }
   ],
   "source": [
    "# Plot a summary of the run.\n",
    "rfig, raxes = dyplot.runplot(res)\n",
    "\n",
    "# Plot traces and 1-D marginalized posteriors.\n",
    "tfig, taxes = dyplot.traceplot(res)\n",
    "\n",
    "# Plot the 2-D marginalized posteriors.\n",
    "cfig, caxes = dyplot.cornerplot(res)\n"
   ]
  },
  {
   "cell_type": "code",
   "execution_count": null,
   "id": "01bba45e",
   "metadata": {},
   "outputs": [],
   "source": []
  }
 ],
 "metadata": {
  "kernelspec": {
   "display_name": "Python 3",
   "language": "python",
   "name": "python3"
  },
  "language_info": {
   "codemirror_mode": {
    "name": "ipython",
    "version": 3
   },
   "file_extension": ".py",
   "mimetype": "text/x-python",
   "name": "python",
   "nbconvert_exporter": "python",
   "pygments_lexer": "ipython3",
   "version": "3.7.10"
  }
 },
 "nbformat": 4,
 "nbformat_minor": 5
}
